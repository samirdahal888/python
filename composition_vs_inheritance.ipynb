{
 "cells": [
  {
   "cell_type": "code",
   "execution_count": null,
   "id": "659078d1",
   "metadata": {},
   "outputs": [],
   "source": [
    "#example of inheritance ,\n",
    "# change in base class can change the all inheritance class , which may be problem to maintain if our inhertance is deeper\n",
    "class A:\n",
    "    def __init__(self,name,age):\n",
    "        self.name = name\n",
    "        self.age = age\n",
    "    def say_hello(self):\n",
    "        return f\"hello {self.name}\"\n",
    "    \n",
    "class B(A):\n",
    "    def say_hello(self):\n",
    "        if self.age >12:\n",
    "            return super().say_hello()\n",
    "        "
   ]
  },
  {
   "cell_type": "code",
   "execution_count": 9,
   "id": "228be6fd",
   "metadata": {},
   "outputs": [
    {
     "data": {
      "text/plain": [
       "'hello samir'"
      ]
     },
     "execution_count": 9,
     "metadata": {},
     "output_type": "execute_result"
    }
   ],
   "source": [
    "b = B('samir',13)\n",
    "b.name\n",
    "b.age\n",
    "b.say_hello()\n"
   ]
  },
  {
   "cell_type": "code",
   "execution_count": null,
   "id": "1d938c0c",
   "metadata": {},
   "outputs": [
    {
     "data": {
      "text/plain": [
       "'hello samir'"
      ]
     },
     "execution_count": 17,
     "metadata": {},
     "output_type": "execute_result"
    }
   ],
   "source": [
    "#example of composition\n",
    "# in this process the chng in one class does not afftect the other class \n",
    "# we can make obj of other class inside the class and use its functionality\n",
    "# we cannot modify/extend the code written in another class ,which we can do in inheritance \n",
    "\n",
    "class A:\n",
    "    def __init__(self,name,age):\n",
    "        self.name = name\n",
    "        self.age = age\n",
    "    def say_hello(self):\n",
    "        return f\"hello {self.name}\"\n",
    "    \n",
    "class B:\n",
    "    def __init__(self,name,age):\n",
    "        self.A = A(name,age)\n",
    "\n",
    "    def say_hello(self):\n",
    "        if self.A.age>12:\n",
    "            return self.A.say_hello()\n",
    "        \n",
    "b = B('samir',13)\n",
    "b.say_hello()\n",
    "        "
   ]
  },
  {
   "cell_type": "code",
   "execution_count": null,
   "id": "09c4c616",
   "metadata": {},
   "outputs": [],
   "source": []
  },
  {
   "cell_type": "code",
   "execution_count": null,
   "id": "9e25ce70",
   "metadata": {},
   "outputs": [],
   "source": []
  }
 ],
 "metadata": {
  "kernelspec": {
   "display_name": "base",
   "language": "python",
   "name": "python3"
  },
  "language_info": {
   "codemirror_mode": {
    "name": "ipython",
    "version": 3
   },
   "file_extension": ".py",
   "mimetype": "text/x-python",
   "name": "python",
   "nbconvert_exporter": "python",
   "pygments_lexer": "ipython3",
   "version": "3.12.4"
  }
 },
 "nbformat": 4,
 "nbformat_minor": 5
}
