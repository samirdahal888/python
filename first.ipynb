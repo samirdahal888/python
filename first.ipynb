{
 "cells": [
  {
   "cell_type": "code",
   "execution_count": 1,
   "id": "bca749a7",
   "metadata": {},
   "outputs": [
    {
     "name": "stdout",
     "output_type": "stream",
     "text": [
      "hello world\n"
     ]
    }
   ],
   "source": [
    "print(\"hello world\")"
   ]
  },
  {
   "cell_type": "code",
   "execution_count": null,
   "id": "6cc659bb",
   "metadata": {},
   "outputs": [],
   "source": [
    "def print(\n",
    "    *values: object,\n",
    "    sep: str | None = \" \",\n",
    "    end: str | None = \"\\n\",\n",
    "    file: SupportsWrite[str] | None = None,\n",
    "    flush: Literal[False] = False\n",
    ") -> None\n"
   ]
  },
  {
   "cell_type": "code",
   "execution_count": 12,
   "id": "14d3dacc",
   "metadata": {},
   "outputs": [],
   "source": [
    "with open('first.txt','w') as f:\n",
    "    print('hello world',12,True,sep='-',file=f)\n"
   ]
  },
  {
   "cell_type": "code",
   "execution_count": 13,
   "id": "849b9f08",
   "metadata": {},
   "outputs": [
    {
     "name": "stdout",
     "output_type": "stream",
     "text": [
      "<class '__main__.samir'>\n"
     ]
    }
   ],
   "source": [
    "class samir:\n",
    "    pass\n",
    "\n",
    "sam = samir()\n",
    "\n",
    "print(type(sam))\n"
   ]
  },
  {
   "cell_type": "code",
   "execution_count": null,
   "id": "c0d40e58",
   "metadata": {},
   "outputs": [
    {
     "name": "stdout",
     "output_type": "stream",
     "text": [
      "<class '__main__.samir'>\n"
     ]
    }
   ],
   "source": []
  },
  {
   "cell_type": "code",
   "execution_count": 4,
   "id": "72d630f6",
   "metadata": {},
   "outputs": [
    {
     "name": "stdout",
     "output_type": "stream",
     "text": [
      "<class 'builtin_function_or_method'>\n"
     ]
    }
   ],
   "source": [
    "print(type(print))"
   ]
  },
  {
   "cell_type": "code",
   "execution_count": 5,
   "id": "8a00a2d3",
   "metadata": {},
   "outputs": [],
   "source": [
    "def greet(name):\n",
    "    return f\"Hello, {name}!\"\n"
   ]
  },
  {
   "cell_type": "code",
   "execution_count": 6,
   "id": "c3270890",
   "metadata": {},
   "outputs": [
    {
     "data": {
      "text/plain": [
       "function"
      ]
     },
     "execution_count": 6,
     "metadata": {},
     "output_type": "execute_result"
    }
   ],
   "source": [
    "type(greet)"
   ]
  },
  {
   "cell_type": "code",
   "execution_count": 14,
   "id": "9b1ff7a8",
   "metadata": {},
   "outputs": [
    {
     "name": "stdout",
     "output_type": "stream",
     "text": [
      "<class '__main__.samir'>\n",
      "samir\n",
      "__main__\n"
     ]
    }
   ],
   "source": [
    "print(sam.__class__)        # <class '__main__.samir'>\n",
    "print(samir.__name__)       # samir\n",
    "print(samir.__module__) "
   ]
  },
  {
   "cell_type": "code",
   "execution_count": 15,
   "id": "20240e94",
   "metadata": {},
   "outputs": [
    {
     "name": "stdout",
     "output_type": "stream",
     "text": [
      "<class 'builtin_function_or_method'>\n"
     ]
    }
   ],
   "source": [
    "print(print.__class__)"
   ]
  },
  {
   "cell_type": "code",
   "execution_count": 16,
   "id": "5786e40d",
   "metadata": {},
   "outputs": [
    {
     "name": "stdout",
     "output_type": "stream",
     "text": [
      "Custom: Hello World\n"
     ]
    }
   ],
   "source": [
    "class MyPrint:\n",
    "    def __call__(self, *args, **kwargs):\n",
    "        # custom print behavior\n",
    "        print(\"Custom:\", *args)\n",
    "\n",
    "printer = MyPrint()\n",
    "printer(\"Hello\", \"World\")  # Acts like a function\n"
   ]
  },
  {
   "cell_type": "code",
   "execution_count": 18,
   "id": "61eaa45a",
   "metadata": {},
   "outputs": [
    {
     "name": "stdout",
     "output_type": "stream",
     "text": [
      "hello world\n"
     ]
    }
   ],
   "source": [
    "print(\"hello world\")"
   ]
  },
  {
   "cell_type": "code",
   "execution_count": 19,
   "id": "6e74ddca",
   "metadata": {},
   "outputs": [],
   "source": [
    "# there are two types of numeric data types they are floats and interger\n"
   ]
  },
  {
   "cell_type": "code",
   "execution_count": 20,
   "id": "6978a7f8",
   "metadata": {},
   "outputs": [
    {
     "name": "stdout",
     "output_type": "stream",
     "text": [
      "5\n",
      "34.5\n"
     ]
    }
   ],
   "source": [
    "print(5)\n",
    "print(34.5)"
   ]
  },
  {
   "cell_type": "code",
   "execution_count": 23,
   "id": "06bc4886",
   "metadata": {},
   "outputs": [
    {
     "name": "stdout",
     "output_type": "stream",
     "text": [
      "kathmandu\n"
     ]
    }
   ],
   "source": [
    "city = 'kathmandu' #city is actually refering the string kathmandu\n",
    "print(city)\n",
    "\n",
    "#storing data and refering to data is seams like similar but very different in python we will look them letter"
   ]
  },
  {
   "cell_type": "code",
   "execution_count": 27,
   "id": "e6e4ee34",
   "metadata": {},
   "outputs": [
    {
     "name": "stdout",
     "output_type": "stream",
     "text": [
      "newyork\n"
     ]
    }
   ],
   "source": [
    "city  ='kathmandu'\n",
    "# print(city)\n",
    "# city = 'new york'\n",
    "# print(city)\n",
    "destination_city = 'newyork'\n",
    "\n",
    "city = destination_city\n",
    "print(city)\n",
    "#we can chnge the value of veriables that why they are called variables"
   ]
  },
  {
   "cell_type": "code",
   "execution_count": 28,
   "id": "82bc3823",
   "metadata": {},
   "outputs": [],
   "source": [
    "# name = input(\"enter your name:\")"
   ]
  },
  {
   "cell_type": "code",
   "execution_count": 29,
   "id": "c26b5f75",
   "metadata": {},
   "outputs": [],
   "source": [
    "# operators"
   ]
  },
  {
   "cell_type": "code",
   "execution_count": 30,
   "id": "1e9601e6",
   "metadata": {},
   "outputs": [
    {
     "name": "stdout",
     "output_type": "stream",
     "text": [
      "8\n"
     ]
    }
   ],
   "source": [
    "x = 5\n",
    "result = print(x+3)"
   ]
  },
  {
   "cell_type": "code",
   "execution_count": 33,
   "id": "0fd3def1",
   "metadata": {},
   "outputs": [
    {
     "name": "stdout",
     "output_type": "stream",
     "text": [
      "4081.5\n"
     ]
    }
   ],
   "source": [
    "discount_amount  = (10/100)*4535\n",
    "to_pay = 4535 -discount_amount\n",
    "print(to_pay)"
   ]
  },
  {
   "cell_type": "code",
   "execution_count": 34,
   "id": "17146cf8",
   "metadata": {},
   "outputs": [
    {
     "name": "stdout",
     "output_type": "stream",
     "text": [
      "350.7639295\n"
     ]
    }
   ],
   "source": [
    "distance_km = 564.5\n",
    "print(distance_km*0.621371)"
   ]
  },
  {
   "cell_type": "code",
   "execution_count": null,
   "id": "149b647f",
   "metadata": {},
   "outputs": [
    {
     "name": "stdout",
     "output_type": "stream",
     "text": [
      " you are pass\n"
     ]
    }
   ],
   "source": [
    "score = int(input(\"enter your score:\"))\n",
    "if score >=50:\n",
    "    print(\" you are pass\")\n",
    "else:\n",
    "    print(\"yo\")"
   ]
  },
  {
   "cell_type": "code",
   "execution_count": 38,
   "id": "67f4df88",
   "metadata": {},
   "outputs": [
    {
     "name": "stdout",
     "output_type": "stream",
     "text": [
      "number is negative number \n"
     ]
    }
   ],
   "source": [
    "number = float(input(\"enter a number:\"))\n",
    "if number >0:\n",
    "    print(\"number is a positive number\")\n",
    "elif number <0:\n",
    "    print(\"number is negative number \")\n",
    "else:\n",
    "    print(\"number is zero\")"
   ]
  },
  {
   "cell_type": "code",
   "execution_count": 39,
   "id": "150ed722",
   "metadata": {},
   "outputs": [
    {
     "name": "stdout",
     "output_type": "stream",
     "text": [
      "i am inside the loop\n",
      "i am inside the loop\n"
     ]
    }
   ],
   "source": [
    "count = 0\n",
    "while count < 2:\n",
    "    print(\"i am inside the loop\")\n",
    "    count = count +1\n"
   ]
  },
  {
   "cell_type": "code",
   "execution_count": 44,
   "id": "c21b55ca",
   "metadata": {},
   "outputs": [
    {
     "name": "stdout",
     "output_type": "stream",
     "text": [
      "10 * 10 = 100\n",
      "10 * 9 = 90\n",
      "10 * 8 = 80\n",
      "10 * 7 = 70\n",
      "10 * 6 = 60\n",
      "10 * 5 = 50\n",
      "10 * 4 = 40\n",
      "10 * 3 = 30\n",
      "10 * 2 = 20\n",
      "10 * 1 = 10\n"
     ]
    }
   ],
   "source": [
    "number  = int(input(\"enter the number :\"))\n",
    "count =10\n",
    "while count >=1:\n",
    "    print(number ,'*', count ,'=', number* count)\n",
    "    count = count-1"
   ]
  },
  {
   "cell_type": "code",
   "execution_count": null,
   "id": "ed348350",
   "metadata": {},
   "outputs": [],
   "source": [
    "class students:\n",
    "    \n",
    "    pass"
   ]
  },
  {
   "cell_type": "code",
   "execution_count": 46,
   "id": "b24eadff",
   "metadata": {},
   "outputs": [],
   "source": [
    "student1 = students()\n"
   ]
  },
  {
   "cell_type": "code",
   "execution_count": null,
   "id": "bc4e8f1a",
   "metadata": {},
   "outputs": [
    {
     "name": "stdout",
     "output_type": "stream",
     "text": [
      "78.53981633974483\n"
     ]
    }
   ],
   "source": [
    "import math\n",
    "\n",
    "class shape:\n",
    "    def __init__(self,lenght,bradth):\n",
    "        pass\n",
    "    def circle(self,radious):\n",
    "        area = (math.pi *(radious**2))\n",
    "        return area\n",
    "\n",
    "    def rectangle(self,length,breadth):\n",
    "        area = length * breadth\n",
    "        return area\n",
    "    def trangle (self,length,breadth):\n",
    "        are =1/2 *(length*breadth)\n",
    "        return are\n",
    "\n",
    "\n",
    "c = shape()\n",
    "print(c.circle(5))\n"
   ]
  },
  {
   "cell_type": "code",
   "execution_count": null,
   "id": "fba80297",
   "metadata": {},
   "outputs": [],
   "source": []
  }
 ],
 "metadata": {
  "kernelspec": {
   "display_name": "base",
   "language": "python",
   "name": "python3"
  },
  "language_info": {
   "codemirror_mode": {
    "name": "ipython",
    "version": 3
   },
   "file_extension": ".py",
   "mimetype": "text/x-python",
   "name": "python",
   "nbconvert_exporter": "python",
   "pygments_lexer": "ipython3",
   "version": "3.12.4"
  }
 },
 "nbformat": 4,
 "nbformat_minor": 5
}
