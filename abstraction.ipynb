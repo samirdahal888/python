{
 "cells": [
  {
   "cell_type": "markdown",
   "id": "275d5db0",
   "metadata": {},
   "source": [
    "# Abstraction \n",
    "- its meaning is hidden"
   ]
  },
  {
   "cell_type": "markdown",
   "id": "84362241",
   "metadata": {},
   "source": [
    "- abstract class is the class which have at least one abstract method \n",
    "- we cannot create object of abstract class \n",
    "\n",
    "What is an Abstract Base Class (ABC)?\n",
    " - An ABC is like a blueprint for other classes. It:\n",
    "\n",
    " - Cannot be used directly to create objects.\n",
    "\n",
    "- Defines rules that its child classes must follow.\n",
    "\n",
    "\n"
   ]
  },
  {
   "cell_type": "code",
   "execution_count": null,
   "id": "0e1358a8",
   "metadata": {},
   "outputs": [],
   "source": []
  },
  {
   "cell_type": "code",
   "execution_count": 8,
   "id": "f40b73f5",
   "metadata": {},
   "outputs": [],
   "source": [
    "from abc import ABC,abstractmethod\n",
    "class BankApp(ABC):  #a class is only an abstract class if it inheret from ABC classs\n",
    "    def database(self):\n",
    "        print(\"connceted to database\")\n",
    "\n",
    "    @abstractmethod\n",
    "    def security(self):\n",
    "        pass\n"
   ]
  },
  {
   "cell_type": "code",
   "execution_count": 9,
   "id": "f6f51457",
   "metadata": {},
   "outputs": [],
   "source": [
    "class MobileApp(BankApp):\n",
    "    def mobile_login(self):\n",
    "        print('login into mobile')\n",
    "\n",
    "    "
   ]
  },
  {
   "cell_type": "code",
   "execution_count": null,
   "id": "6dea8d21",
   "metadata": {},
   "outputs": [
    {
     "ename": "TypeError",
     "evalue": "Can't instantiate abstract class MobileApp without an implementation for abstract method 'security'",
     "output_type": "error",
     "traceback": [
      "\u001b[1;31m---------------------------------------------------------------------------\u001b[0m",
      "\u001b[1;31mTypeError\u001b[0m                                 Traceback (most recent call last)",
      "Cell \u001b[1;32mIn[10], line 1\u001b[0m\n\u001b[1;32m----> 1\u001b[0m mob \u001b[38;5;241m=\u001b[39m MobileApp()\n",
      "\u001b[1;31mTypeError\u001b[0m: Can't instantiate abstract class MobileApp without an implementation for abstract method 'security'"
     ]
    }
   ],
   "source": [
    "mob = MobileApp()   #we cnnot inherete bankapp class unless its abstract method is overridding"
   ]
  },
  {
   "cell_type": "code",
   "execution_count": 11,
   "id": "0d09e3b7",
   "metadata": {},
   "outputs": [],
   "source": [
    "class MobileApp(BankApp):\n",
    "    def mobile_login(self):\n",
    "        print('login into mobile')\n",
    "    def security(self):\n",
    "        print(\"mobile security\")"
   ]
  },
  {
   "cell_type": "code",
   "execution_count": 12,
   "id": "2c4114e8",
   "metadata": {},
   "outputs": [],
   "source": [
    "mob = MobileApp()"
   ]
  },
  {
   "cell_type": "code",
   "execution_count": 15,
   "id": "397f34bc",
   "metadata": {},
   "outputs": [
    {
     "name": "stdout",
     "output_type": "stream",
     "text": [
      "mobile security\n"
     ]
    }
   ],
   "source": [
    "mob.security()"
   ]
  },
  {
   "cell_type": "code",
   "execution_count": 16,
   "id": "2d74cb95",
   "metadata": {},
   "outputs": [
    {
     "name": "stdout",
     "output_type": "stream",
     "text": [
      "hii\n"
     ]
    }
   ],
   "source": [
    "print('hii')"
   ]
  },
  {
   "cell_type": "markdown",
   "id": "5ff858ba",
   "metadata": {},
   "source": [
    "# Practice of all the concepts"
   ]
  },
  {
   "cell_type": "code",
   "execution_count": null,
   "id": "965fd59f",
   "metadata": {},
   "outputs": [],
   "source": [
    "#multi level inheritance \n",
    "\n",
    "\n",
    "class Grandparent:\n",
    "    def __init__(self):\n",
    "        print('inside grandparent')\n",
    "    def proprty(self):\n",
    "        print('grandparent propert')\n",
    "\n",
    "\n",
    "class Parent(Grandparent):\n",
    "    def __init__(self):\n",
    "        self.name = 'samir'\n",
    "        print('i am inside parent')\n",
    "        super().__init__()\n",
    "       \n",
    "\n",
    "    def hello(self):\n",
    "        print(f\"hello {self.name}\")\n",
    "        print(self.proprty())\n",
    "\n",
    "class Child(Parent):\n",
    "    def __init__(self):\n",
    "        print('i ma indide child')\n",
    "        super().__init__()\n",
    "        # super().__init__()\n",
    "\n",
    "    def hello(self):\n",
    "        print('i am inside child')\n",
    "        super().hello()\n",
    "    \n",
    "        "
   ]
  },
  {
   "cell_type": "code",
   "execution_count": 80,
   "id": "e99fdfb1",
   "metadata": {},
   "outputs": [
    {
     "name": "stdout",
     "output_type": "stream",
     "text": [
      "inside grandparent\n",
      "i am inside parent\n",
      "inside grandparent\n",
      "i ma indide child\n",
      "i am inside parent\n",
      "inside grandparent\n"
     ]
    }
   ],
   "source": [
    "g1 = Grandparent()\n",
    "p1 = Parent()\n",
    "c1 = Child()"
   ]
  },
  {
   "cell_type": "code",
   "execution_count": null,
   "id": "8ed3b19e",
   "metadata": {},
   "outputs": [],
   "source": []
  },
  {
   "cell_type": "code",
   "execution_count": 82,
   "id": "1a14e0f1",
   "metadata": {},
   "outputs": [
    {
     "name": "stdout",
     "output_type": "stream",
     "text": [
      "<class '__main__.Grandparent'>\n",
      "<class '__main__.Parent'>\n",
      "<class '__main__.Child'>\n"
     ]
    }
   ],
   "source": [
    "print(type(g1))\n",
    "print(type(p1))\n",
    "print(type(c1))"
   ]
  },
  {
   "cell_type": "markdown",
   "id": "e67318b8",
   "metadata": {},
   "source": []
  },
  {
   "cell_type": "code",
   "execution_count": 133,
   "id": "c0707253",
   "metadata": {},
   "outputs": [],
   "source": [
    "#multiple inheritance \n",
    "# in this we have more then one parent of a child class\n",
    "# object of child class have data type of that same class no chng in datatype\n",
    "# it follow MRO(Method resolution order to execute the code) we can see method relolution oreder by doing Child.__mro__\n",
    "# if we want to access all claass constructor to the child class then we can use super keyword to all the class inside init method (same for all other methods as well)\n",
    "# this concept is called (Cooperative Inheritance)\n",
    "\n",
    "class Base:\n",
    "    def hello(self):\n",
    "        pass  # Ends the hello() chain safely\n",
    "\n",
    "class Grandparent(Base):\n",
    "    def __init__(self):\n",
    "        print('inside grandparent')\n",
    "        super().__init__()\n",
    "    def proprty(self):\n",
    "        print('grandparent propert')\n",
    "    def hello(self):\n",
    "        print(\"inisde Grandparent hello\")\n",
    "        super().hello()\n",
    "        \n",
    "\n",
    "\n",
    "class Parent(Base):\n",
    "    def __init__(self):\n",
    "        self.name = 'samir'\n",
    "        print('i am inside parent')\n",
    "        super().__init__()\n",
    "       \n",
    "\n",
    "    def hello(self):\n",
    "        print(f\"hello {self.name}\")\n",
    "        super().hello()\n",
    "       \n",
    "\n",
    "class Child(Grandparent,Parent,):\n",
    "    def __init__(self):\n",
    "        print('i ma indide child')\n",
    "        super().__init__()\n",
    "        \n",
    "\n",
    "    def hello(self):\n",
    "        print('i am inside child hello')\n",
    "        super().hello()\n",
    "    \n",
    "        "
   ]
  },
  {
   "cell_type": "code",
   "execution_count": 134,
   "id": "1a804fe1",
   "metadata": {},
   "outputs": [
    {
     "data": {
      "text/plain": [
       "(__main__.Child, __main__.Grandparent, __main__.Parent, __main__.Base, object)"
      ]
     },
     "execution_count": 134,
     "metadata": {},
     "output_type": "execute_result"
    }
   ],
   "source": [
    "Child.__mro__"
   ]
  },
  {
   "cell_type": "code",
   "execution_count": 135,
   "id": "581b0647",
   "metadata": {},
   "outputs": [
    {
     "name": "stdout",
     "output_type": "stream",
     "text": [
      "i ma indide child\n",
      "inside grandparent\n",
      "i am inside parent\n"
     ]
    }
   ],
   "source": [
    "c1 = Child()"
   ]
  },
  {
   "cell_type": "code",
   "execution_count": 136,
   "id": "aa46e85e",
   "metadata": {},
   "outputs": [
    {
     "name": "stdout",
     "output_type": "stream",
     "text": [
      "i am inside child hello\n",
      "inisde Grandparent hello\n",
      "hello samir\n"
     ]
    }
   ],
   "source": [
    "c1.hello()\n"
   ]
  },
  {
   "cell_type": "code",
   "execution_count": 123,
   "id": "23c6841d",
   "metadata": {},
   "outputs": [
    {
     "name": "stdout",
     "output_type": "stream",
     "text": [
      "i am inside child hello\n",
      "inisde Grandparent hello\n"
     ]
    }
   ],
   "source": [
    "c1.hello()"
   ]
  },
  {
   "cell_type": "code",
   "execution_count": null,
   "id": "30fdd314",
   "metadata": {},
   "outputs": [
    {
     "name": "stdout",
     "output_type": "stream",
     "text": [
      "Inside Child hello\n",
      "Inside Grandparent hello\n",
      "Inside Parent hello\n"
     ]
    }
   ],
   "source": []
  },
  {
   "cell_type": "code",
   "execution_count": 140,
   "id": "79b67cc8",
   "metadata": {},
   "outputs": [],
   "source": [
    "#herarchical inheritance?\n",
    "# one parent multiple child\n",
    "class Parent:\n",
    "    def proprty(self):\n",
    "        print('parent property')\n",
    "    def hello(self):\n",
    "        print('inside parent')\n",
    "class child1(Parent):\n",
    "    def hello(self):\n",
    "        print('inide child1')\n",
    "\n",
    "class child2(Parent):\n",
    "    def hello(self):\n",
    "        print('inside child2')"
   ]
  },
  {
   "cell_type": "code",
   "execution_count": 141,
   "id": "38bac163",
   "metadata": {},
   "outputs": [
    {
     "name": "stdout",
     "output_type": "stream",
     "text": [
      "parent property\n"
     ]
    }
   ],
   "source": [
    "c2 = child2()\n",
    "c2.proprty()"
   ]
  },
  {
   "cell_type": "code",
   "execution_count": null,
   "id": "0d926a01",
   "metadata": {},
   "outputs": [],
   "source": [
    "# hybride inheritance \n",
    "# using various types of inheretance together\n",
    "# mix inheritance\n",
    "\n",
    "# Hybrid inheritance is a combination of more than one type of inheritance (like single, multiple, and multilevel) in one program.\n"
   ]
  },
  {
   "cell_type": "code",
   "execution_count": 147,
   "id": "a63fb16c",
   "metadata": {},
   "outputs": [],
   "source": [
    "class A:\n",
    "    def show(self):\n",
    "        print(\"inside A\")\n",
    "\n",
    "class B(A):\n",
    "    def show(self):\n",
    "        print(\"inside B\")\n",
    "\n",
    "\n",
    "class C(A):\n",
    "    def show(self):\n",
    "        print(\"inside B\")\n",
    "\n",
    "class D(B,C):\n",
    "    def show(self):\n",
    "        print(\"inside D\")\n",
    "        super().show()"
   ]
  },
  {
   "cell_type": "code",
   "execution_count": 148,
   "id": "e620e1d1",
   "metadata": {},
   "outputs": [],
   "source": [
    "d = D()\n"
   ]
  },
  {
   "cell_type": "code",
   "execution_count": 149,
   "id": "62a6d330",
   "metadata": {},
   "outputs": [
    {
     "name": "stdout",
     "output_type": "stream",
     "text": [
      "inside D\n",
      "inside B\n"
     ]
    }
   ],
   "source": [
    "d.show()"
   ]
  },
  {
   "cell_type": "markdown",
   "id": "c8e7ca8e",
   "metadata": {},
   "source": [
    "# polymorphism"
   ]
  },
  {
   "cell_type": "code",
   "execution_count": 150,
   "id": "77e27d02",
   "metadata": {},
   "outputs": [],
   "source": [
    "# method overloding\n",
    "class Parent:\n",
    "    def hello(self):\n",
    "        print('hello indie parent')\n",
    "\n",
    "class Child(Parent):\n",
    "    def hello(self):\n",
    "        print(\"hello inside child\")"
   ]
  },
  {
   "cell_type": "code",
   "execution_count": 152,
   "id": "e88d5928",
   "metadata": {},
   "outputs": [
    {
     "name": "stdout",
     "output_type": "stream",
     "text": [
      "hello inside child\n"
     ]
    }
   ],
   "source": [
    "c1 = Child()\n",
    "c1.hello()"
   ]
  },
  {
   "cell_type": "code",
   "execution_count": null,
   "id": "56af90a9",
   "metadata": {},
   "outputs": [],
   "source": [
    "# Method overloding\n",
    "# Method overloading means using the same function name to do different tasks based on  inputs.\n",
    "# if we have same name 2 function then its more easy to read \n",
    "# auta input diyo vnny matho function execute hunxa \n",
    "# 2 ta input diyo vnny talako code execute hunxa \n",
    "\n",
    "# but this method overloading concept is not ther in python"
   ]
  },
  {
   "cell_type": "code",
   "execution_count": 159,
   "id": "26c3a26b",
   "metadata": {},
   "outputs": [],
   "source": [
    "class Shape:\n",
    "    def area(self,radius):\n",
    "        return 3.24*radius*radius\n",
    "    \n",
    "    def area(self,length,breadth):\n",
    "        return length*breadth"
   ]
  },
  {
   "cell_type": "code",
   "execution_count": null,
   "id": "7b9b57c0",
   "metadata": {},
   "outputs": [
    {
     "ename": "TypeError",
     "evalue": "Shape.area() missing 1 required positional argument: 'breadth'",
     "output_type": "error",
     "traceback": [
      "\u001b[1;31m---------------------------------------------------------------------------\u001b[0m",
      "\u001b[1;31mTypeError\u001b[0m                                 Traceback (most recent call last)",
      "Cell \u001b[1;32mIn[160], line 2\u001b[0m\n\u001b[0;32m      1\u001b[0m a \u001b[38;5;241m=\u001b[39m Shape()\n\u001b[1;32m----> 2\u001b[0m a\u001b[38;5;241m.\u001b[39marea(\u001b[38;5;241m2\u001b[39m)\n",
      "\u001b[1;31mTypeError\u001b[0m: Shape.area() missing 1 required positional argument: 'breadth'"
     ]
    }
   ],
   "source": [
    "a = Shape()\n",
    "a.area(2) #gives an error"
   ]
  },
  {
   "cell_type": "code",
   "execution_count": null,
   "id": "283f0417",
   "metadata": {},
   "outputs": [],
   "source": [
    "# pyhon ma yadi aautai name ko 2 ta method xa same class ma vnny , pyhton ly latest method lai matrai samjinxa aarko birsinxa \n",
    "#java ma above code will work"
   ]
  },
  {
   "cell_type": "code",
   "execution_count": 162,
   "id": "924e2fbe",
   "metadata": {},
   "outputs": [],
   "source": [
    "#python ma yo mehtod overloding garna sakinxa by using default arguments:\n",
    "#aauta matrai method banaym area rw multiple type ko behaviour nikalum based on area\n",
    "class Shape:\n",
    "\n",
    "    def area(self,a,b=0):\n",
    "        if b==0:\n",
    "            return 3.24*a*a\n",
    "        \n",
    "        else:\n",
    "            return a*b\n",
    "        \n",
    "\n",
    "\n",
    "\n"
   ]
  },
  {
   "cell_type": "code",
   "execution_count": 163,
   "id": "9457e7dd",
   "metadata": {},
   "outputs": [
    {
     "data": {
      "text/plain": [
       "12.96"
      ]
     },
     "execution_count": 163,
     "metadata": {},
     "output_type": "execute_result"
    }
   ],
   "source": [
    "s = Shape()\n",
    "s.area(2)"
   ]
  },
  {
   "cell_type": "code",
   "execution_count": 164,
   "id": "3d87333c",
   "metadata": {},
   "outputs": [
    {
     "data": {
      "text/plain": [
       "6"
      ]
     },
     "execution_count": 164,
     "metadata": {},
     "output_type": "execute_result"
    }
   ],
   "source": [
    "s.area(2,3)"
   ]
  },
  {
   "cell_type": "code",
   "execution_count": null,
   "id": "b2f0df5d",
   "metadata": {},
   "outputs": [],
   "source": [
    "# operator overloading\n",
    "# same operator but depending upon the  diffeernt input behaviour changes\n",
    "#example + operator\n",
    "\n",
    "# 🧠 What is Operator Overloading?\n",
    "# Operator overloading lets you change the behavior of operators (like +, -, *) for user-defined objects.\n",
    "\n",
    "# best example is bellow to create a fraction +\n",
    "\n"
   ]
  },
  {
   "cell_type": "code",
   "execution_count": 170,
   "id": "c18728d7",
   "metadata": {},
   "outputs": [],
   "source": [
    "class fraction:\n",
    "    def __init__(self,x,y):\n",
    "        self.x = x\n",
    "        self.y = y\n",
    "\n",
    "    def __add__(self,others):\n",
    "        return f\"{self.x * others.y + self.y * others.x} / {self.y * others.y}\"\n"
   ]
  },
  {
   "cell_type": "code",
   "execution_count": 171,
   "id": "a9714066",
   "metadata": {},
   "outputs": [
    {
     "data": {
      "text/plain": [
       "'17 / 12'"
      ]
     },
     "execution_count": 171,
     "metadata": {},
     "output_type": "execute_result"
    }
   ],
   "source": [
    "f1 = fraction(2,3)\n",
    "f2 = fraction(3,4)\n",
    "f1+f2"
   ]
  },
  {
   "cell_type": "code",
   "execution_count": 172,
   "id": "11c301f0",
   "metadata": {},
   "outputs": [
    {
     "data": {
      "text/plain": [
       "'helloworld'"
      ]
     },
     "execution_count": 172,
     "metadata": {},
     "output_type": "execute_result"
    }
   ],
   "source": [
    "'hello' +'world'"
   ]
  },
  {
   "cell_type": "code",
   "execution_count": 166,
   "id": "8475cef5",
   "metadata": {},
   "outputs": [
    {
     "data": {
      "text/plain": [
       "3"
      ]
     },
     "execution_count": 166,
     "metadata": {},
     "output_type": "execute_result"
    }
   ],
   "source": [
    "1+2"
   ]
  },
  {
   "cell_type": "markdown",
   "id": "b97bb5e0",
   "metadata": {},
   "source": [
    "# class method vs static method "
   ]
  },
  {
   "cell_type": "code",
   "execution_count": null,
   "id": "16b8ae8e",
   "metadata": {},
   "outputs": [
    {
     "name": "stdout",
     "output_type": "stream",
     "text": [
      "class method 10\n",
      "static method,no access to class_var\n"
     ]
    }
   ],
   "source": [
    "class MyClass:\n",
    "    class_var = 10\n",
    "\n",
    "\n",
    "    @classmethod\n",
    "    def show_class(cls):#class ko variables haru lai chng garna lai\n",
    "        print('class method',cls.class_var)\n",
    "\n",
    "    @staticmethod\n",
    "    def show_static(): # without the argument class and object \n",
    "        print('static method,no access to class_var')\n",
    "\n",
    "MyClass.show_class()\n",
    "MyClass.show_static()\n",
    "    "
   ]
  },
  {
   "cell_type": "code",
   "execution_count": 176,
   "id": "94300843",
   "metadata": {},
   "outputs": [
    {
     "name": "stdout",
     "output_type": "stream",
     "text": [
      "class method 10\n"
     ]
    }
   ],
   "source": [
    "a = MyClass()\n",
    "a.show_class()"
   ]
  },
  {
   "cell_type": "markdown",
   "id": "e6c3683e",
   "metadata": {},
   "source": [
    "# public private and protected"
   ]
  },
  {
   "cell_type": "code",
   "execution_count": null,
   "id": "9c38cf04",
   "metadata": {},
   "outputs": [],
   "source": [
    "#public\n",
    "# Can be accessed from anywhere (inside or outside the class).\n",
    "\n",
    "\n",
    "\n",
    "class A:\n",
    "    def __init__(self):\n",
    "        self.name = 'samit'\n",
    "\n",
    "a = A()\n",
    "a.name\n"
   ]
  },
  {
   "cell_type": "code",
   "execution_count": 185,
   "id": "23200288",
   "metadata": {},
   "outputs": [],
   "source": [
    "#protected\n",
    "# Can be accessed outside the class, but is meant to be used only inside the class or subclasses (just a convention, not enforced).\n",
    "# it should only be overriden by there subclass\n",
    "class A:\n",
    "    def __init__(self):\n",
    "        self._name = 'samit'\n",
    "\n",
    "class B(A):\n",
    "    def print(self):\n",
    "        print(self._name) #this is valid \n",
    "\n",
    "\n",
    "a = B()\n",
    "a._name = 'hero'"
   ]
  },
  {
   "cell_type": "code",
   "execution_count": 186,
   "id": "2b20c143",
   "metadata": {},
   "outputs": [
    {
     "data": {
      "text/plain": [
       "'hero'"
      ]
     },
     "execution_count": 186,
     "metadata": {},
     "output_type": "execute_result"
    }
   ],
   "source": [
    "a._name\n"
   ]
  },
  {
   "cell_type": "code",
   "execution_count": null,
   "id": "c0b56187",
   "metadata": {},
   "outputs": [],
   "source": []
  }
 ],
 "metadata": {
  "kernelspec": {
   "display_name": "base",
   "language": "python",
   "name": "python3"
  },
  "language_info": {
   "codemirror_mode": {
    "name": "ipython",
    "version": 3
   },
   "file_extension": ".py",
   "mimetype": "text/x-python",
   "name": "python",
   "nbconvert_exporter": "python",
   "pygments_lexer": "ipython3",
   "version": "3.12.4"
  }
 },
 "nbformat": 4,
 "nbformat_minor": 5
}
