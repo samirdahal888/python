{
 "cells": [
  {
   "cell_type": "code",
   "execution_count": null,
   "id": "2e440297",
   "metadata": {},
   "outputs": [],
   "source": [
    "#started the code here \n",
    "a  = 'hello'\n",
    "print(a)"
   ]
  },
  {
   "cell_type": "markdown",
   "id": "fee375e8",
   "metadata": {},
   "source": [
    "# inheritance and polymorphidm"
   ]
  },
  {
   "cell_type": "markdown",
   "id": "b5d74b67",
   "metadata": {},
   "source": [
    "### class relatonship\n",
    " - aggregation\n",
    " - inheritance"
   ]
  },
  {
   "cell_type": "markdown",
   "id": "63329d0b",
   "metadata": {},
   "source": [
    "### Aggregation (has a relatonship)\n",
    "- aggregation is a relation between two class , if once class has a relation with another class , like customer and address , in this case we send the obj of one class as a agrument to the next class , and remeber private attribuits can only be accessible by getter and setter methods "
   ]
  },
  {
   "cell_type": "code",
   "execution_count": 18,
   "id": "94da5387",
   "metadata": {},
   "outputs": [],
   "source": [
    "class Customer:\n",
    "    def __init__(self,name,gender,address):\n",
    "        self.name = name\n",
    "        self.gender = gender\n",
    "        self.address = address\n",
    "\n",
    "\n",
    "    def print_address(self):\n",
    "        print(self.address.get_city(),self.address.pincode,self.address.state)\n",
    "class Address:\n",
    "    def __init__(self,city,pincode,state):\n",
    "        self.__city = city\n",
    "        self.pincode = pincode\n",
    "        self.state = state\n",
    "\n",
    "    def get_city(self):\n",
    "        return self.__city\n",
    "add1 = Address('kathmandu',11220,'katmandu')\n",
    "cust = Customer('samir','male',add1)"
   ]
  },
  {
   "cell_type": "code",
   "execution_count": 19,
   "id": "4ce7a5c8",
   "metadata": {},
   "outputs": [
    {
     "name": "stdout",
     "output_type": "stream",
     "text": [
      "kathmandu 11220 katmandu\n"
     ]
    }
   ],
   "source": [
    "cust.print_address()"
   ]
  },
  {
   "cell_type": "code",
   "execution_count": null,
   "id": "18f1aebd",
   "metadata": {},
   "outputs": [],
   "source": []
  },
  {
   "cell_type": "code",
   "execution_count": null,
   "id": "9388b567",
   "metadata": {},
   "outputs": [],
   "source": []
  },
  {
   "cell_type": "code",
   "execution_count": null,
   "id": "2cb59e05",
   "metadata": {},
   "outputs": [
    {
     "ename": "AttributeError",
     "evalue": "'pp' object has no attribute 'name'",
     "output_type": "error",
     "traceback": [
      "\u001b[1;31m---------------------------------------------------------------------------\u001b[0m",
      "\u001b[1;31mAttributeError\u001b[0m                            Traceback (most recent call last)",
      "Cell \u001b[1;32mIn[11], line 1\u001b[0m\n\u001b[1;32m----> 1\u001b[0m obj\u001b[38;5;241m.\u001b[39mname\n",
      "\u001b[1;31mAttributeError\u001b[0m: 'pp' object has no attribute 'name'"
     ]
    }
   ],
   "source": []
  },
  {
   "cell_type": "code",
   "execution_count": null,
   "id": "ee0061e9",
   "metadata": {},
   "outputs": [],
   "source": []
  }
 ],
 "metadata": {
  "kernelspec": {
   "display_name": "base",
   "language": "python",
   "name": "python3"
  },
  "language_info": {
   "codemirror_mode": {
    "name": "ipython",
    "version": 3
   },
   "file_extension": ".py",
   "mimetype": "text/x-python",
   "name": "python",
   "nbconvert_exporter": "python",
   "pygments_lexer": "ipython3",
   "version": "3.12.4"
  }
 },
 "nbformat": 4,
 "nbformat_minor": 5
}
